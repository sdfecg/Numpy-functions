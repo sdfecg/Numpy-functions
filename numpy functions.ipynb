{
 "cells": [
  {
   "cell_type": "markdown",
   "id": "f6bd73ee",
   "metadata": {},
   "source": [
    "# 1.Numpy.isscalar()\n",
    "\n"
   ]
  },
  {
   "cell_type": "code",
   "execution_count": 4,
   "id": "a6f4e075",
   "metadata": {},
   "outputs": [
    {
     "data": {
      "text/plain": [
       "True"
      ]
     },
     "execution_count": 4,
     "metadata": {},
     "output_type": "execute_result"
    }
   ],
   "source": [
    "# It is a logic function in NumPy that returns true if the type of input num is scalar.If not returns false.\n",
    "\n",
    "import numpy as np\n",
    "np.isscalar(False) # False is boolean which is also a scalar type"
   ]
  },
  {
   "cell_type": "markdown",
   "id": "29bbc112",
   "metadata": {},
   "source": [
    "# 2.Numpy.iscomplex()"
   ]
  },
  {
   "cell_type": "code",
   "execution_count": 6,
   "id": "2963a2c0",
   "metadata": {},
   "outputs": [
    {
     "data": {
      "text/plain": [
       "array([False,  True, False, False,  True])"
      ]
     },
     "execution_count": 6,
     "metadata": {},
     "output_type": "execute_result"
    }
   ],
   "source": [
    "#This a logic function in NumPy which return a bool array, where True if input element is complex.If not returns false.\n",
    "\n",
    "# input has a non-zero imaginary part.\n",
    "\n",
    "import numpy as np\n",
    "np.iscomplex([2+0j,2+2j,3,5,1+3j])"
   ]
  },
  {
   "cell_type": "markdown",
   "id": "60b4ffc0",
   "metadata": {},
   "source": [
    "# 3.Numpy.array_equal()"
   ]
  },
  {
   "cell_type": "code",
   "execution_count": 8,
   "id": "39bf9ed3",
   "metadata": {},
   "outputs": [
    {
     "data": {
      "text/plain": [
       "True"
      ]
     },
     "execution_count": 8,
     "metadata": {},
     "output_type": "execute_result"
    }
   ],
   "source": [
    "#This a logic function in NumPy which return true only when the given specific arrays are equal.If not returns false.\n",
    "\n",
    "import numpy as np\n",
    "np.array_equal([2,3],[2,3])"
   ]
  },
  {
   "cell_type": "code",
   "execution_count": 9,
   "id": "82e34340",
   "metadata": {},
   "outputs": [
    {
     "data": {
      "text/plain": [
       "False"
      ]
     },
     "execution_count": 9,
     "metadata": {},
     "output_type": "execute_result"
    }
   ],
   "source": [
    "np.array_equal([1,2,3],[4,7])"
   ]
  },
  {
   "cell_type": "markdown",
   "id": "7bf37328",
   "metadata": {},
   "source": [
    "# 4.Numpy.less_equal()"
   ]
  },
  {
   "cell_type": "code",
   "execution_count": 11,
   "id": "3998dcf8",
   "metadata": {},
   "outputs": [
    {
     "data": {
      "text/plain": [
       "array([ True,  True,  True])"
      ]
     },
     "execution_count": 11,
     "metadata": {},
     "output_type": "execute_result"
    }
   ],
   "source": [
    "# This a logic function in NumPy which return true when X1(first array) should be less than or equal to X2 i.e X1=<X2\n",
    "\n",
    "import numpy as np\n",
    "x1 = [1,4,7]\n",
    "x2 = [2,8,9]\n",
    "np.less_equal(x1,x2)\n"
   ]
  },
  {
   "cell_type": "markdown",
   "id": "f0a0550e",
   "metadata": {},
   "source": [
    "# 5.Numpy.multiple()"
   ]
  },
  {
   "cell_type": "code",
   "execution_count": 14,
   "id": "1e25a762",
   "metadata": {},
   "outputs": [
    {
     "data": {
      "text/plain": [
       "array([[ 4, 35, 15],\n",
       "       [ 8,  0, 81]])"
      ]
     },
     "execution_count": 14,
     "metadata": {},
     "output_type": "execute_result"
    }
   ],
   "source": [
    "# This is a mathematical function which is used to multiplication of two arrays of same size.\n",
    "\n",
    "import numpy as np\n",
    "\n",
    "a1 = ([4,7,5],[2,6,9])\n",
    "a2 = ([1,5,3],[4,0,9])\n",
    "np.multiply(a1,a2)"
   ]
  },
  {
   "cell_type": "markdown",
   "id": "23674b25",
   "metadata": {},
   "source": [
    "# 6. Numpy.lcm()"
   ]
  },
  {
   "cell_type": "code",
   "execution_count": 17,
   "id": "aa65868b",
   "metadata": {},
   "outputs": [
    {
     "data": {
      "text/plain": [
       "60"
      ]
     },
     "execution_count": 17,
     "metadata": {},
     "output_type": "execute_result"
    }
   ],
   "source": [
    "# This is a mathematical function which is used to find least common multiple (LCM) of two numbers or arrays\n",
    "import numpy as np\n",
    "var = [4,12,5]\n",
    "np.lcm.reduce(var) # In this function reduce() is used for reducing the array and giving output as a single final value.\n",
    "\n"
   ]
  },
  {
   "cell_type": "markdown",
   "id": "7a34c559",
   "metadata": {},
   "source": [
    "# 7.Numpy.gcd()"
   ]
  },
  {
   "cell_type": "code",
   "execution_count": 19,
   "id": "0e2b17fd",
   "metadata": {},
   "outputs": [
    {
     "data": {
      "text/plain": [
       "4"
      ]
     },
     "execution_count": 19,
     "metadata": {},
     "output_type": "execute_result"
    }
   ],
   "source": [
    "# This is a mathematical function which is used to find greatest common Divisor (GCD) of two numbers or arrays.\n",
    "import numpy as np\n",
    "tmp = [40,56,84,12,24]\n",
    "np.gcd.reduce(tmp) # In this function reduce() is used for reducing the array and giving output as a single final value.\n",
    "\n",
    "\n",
    "\n",
    "\n",
    "\n"
   ]
  },
  {
   "cell_type": "markdown",
   "id": "155d516f",
   "metadata": {},
   "source": [
    "# 8.Numpy.random.power()"
   ]
  },
  {
   "cell_type": "code",
   "execution_count": 22,
   "id": "3339e097",
   "metadata": {},
   "outputs": [
    {
     "data": {
      "text/plain": [
       "array([0.80968364, 0.88611822, 0.79997294, 0.68737372, 0.94752636,\n",
       "       0.95555218, 0.96029216, 0.9442932 , 0.71584957, 0.8336254 ,\n",
       "       0.85169439, 0.7918272 , 0.93621331, 0.89690846, 0.42541995,\n",
       "       0.81110882, 0.83945181, 0.82093623, 0.80495122, 0.76998272,\n",
       "       0.90285267, 0.94744641, 0.90470742, 0.97758965, 0.51400929,\n",
       "       0.89854627, 0.71481737, 0.76305096, 0.73112894, 0.73574446,\n",
       "       0.683358  , 0.32787877, 0.72886404, 0.91625949, 0.83997007,\n",
       "       0.73082722, 0.63197426, 0.9078239 , 0.94145671, 0.48736588,\n",
       "       0.80101677, 0.81650007, 0.40122248, 0.95032539, 0.64726921,\n",
       "       0.84695239, 0.81240559, 0.92415181, 0.64723816, 0.9908233 ,\n",
       "       0.94859715, 0.74712467, 0.91814205, 0.87157294, 0.97591985,\n",
       "       0.98055183, 0.9063718 , 0.9535028 , 0.52225988, 0.92688358,\n",
       "       0.98950527, 0.89514971, 0.92558106, 0.99291706, 0.83257632,\n",
       "       0.92099329, 0.74445432, 0.95507128, 0.97121634, 0.85544729,\n",
       "       0.62767909, 0.79325429, 0.85591359, 0.97822467, 0.71774286,\n",
       "       0.59167971, 0.94376435, 0.61541876, 0.86361983, 0.97085646,\n",
       "       0.93587656, 0.67203819, 0.94279348, 0.71962761, 0.82635587,\n",
       "       0.81293196, 0.7674668 , 0.9456295 , 0.669824  , 0.76202184,\n",
       "       0.9620397 , 0.92877125, 0.91541643, 0.62826961, 0.67051199,\n",
       "       0.93229901, 0.71742535, 0.72879304, 0.78803979, 0.69742506])"
      ]
     },
     "execution_count": 22,
     "metadata": {},
     "output_type": "execute_result"
    }
   ],
   "source": [
    "# This is a statistical function, which  gives the random samples from power distribution and return the random samples. \n",
    "import numpy as np\n",
    "a = 5. # shape\n",
    "samples = 100\n",
    "s = np.random.power(a, samples)\n",
    "s\n"
   ]
  },
  {
   "cell_type": "markdown",
   "id": "46def825",
   "metadata": {},
   "source": [
    "# 9.Numpy.logaddexp()"
   ]
  },
  {
   "cell_type": "code",
   "execution_count": 24,
   "id": "84fe2f14",
   "metadata": {},
   "outputs": [
    {
     "data": {
      "text/plain": [
       "array([4.31326169, 7.31326169, 9.01814993])"
      ]
     },
     "execution_count": 24,
     "metadata": {},
     "output_type": "execute_result"
    }
   ],
   "source": [
    "# This is a statistical function used to calculate Logarithm of the sum of exponentiations of the inputs.\n",
    "import numpy as np\n",
    "b1 = [4,7,5]\n",
    "b2 = [3,6,9]\n",
    "np.logaddexp(b1,b2)"
   ]
  },
  {
   "cell_type": "markdown",
   "id": "78124e29",
   "metadata": {},
   "source": [
    "# 10.Numpy.pad()"
   ]
  },
  {
   "cell_type": "code",
   "execution_count": 27,
   "id": "a06dcd15",
   "metadata": {},
   "outputs": [
    {
     "data": {
      "text/plain": [
       "array([5, 5, 5, 5, 3, 6, 7, 2, 8, 4, 4, 4])"
      ]
     },
     "execution_count": 27,
     "metadata": {},
     "output_type": "execute_result"
    }
   ],
   "source": [
    "#This is a statistical function used to pad the Numpy arrays. (pad:  a process in which the array is altered with some values at the beginning and end)\n",
    "import numpy as np\n",
    "arr = [3,6,7,2,8]\n",
    "np.pad(arr, (4,3), 'constant',constant_values=(5,4))"
   ]
  }
 ],
 "metadata": {
  "kernelspec": {
   "display_name": "Python 3 (ipykernel)",
   "language": "python",
   "name": "python3"
  },
  "language_info": {
   "codemirror_mode": {
    "name": "ipython",
    "version": 3
   },
   "file_extension": ".py",
   "mimetype": "text/x-python",
   "name": "python",
   "nbconvert_exporter": "python",
   "pygments_lexer": "ipython3",
   "version": "3.10.9"
  }
 },
 "nbformat": 4,
 "nbformat_minor": 5
}
